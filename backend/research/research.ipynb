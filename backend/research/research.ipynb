{
 "cells": [
  {
   "cell_type": "code",
   "execution_count": 1,
   "metadata": {},
   "outputs": [],
   "source": [
    "import os\n",
    "import dotenv\n",
    "from langchain.document_loaders import PyPDFLoader, DirectoryLoader\n",
    "from langchain.text_splitter import RecursiveCharacterTextSplitter"
   ]
  },
  {
   "cell_type": "code",
   "execution_count": 2,
   "metadata": {},
   "outputs": [
    {
     "data": {
      "text/plain": [
       "True"
      ]
     },
     "execution_count": 2,
     "metadata": {},
     "output_type": "execute_result"
    }
   ],
   "source": [
    "dotenv.load_dotenv()"
   ]
  },
  {
   "cell_type": "code",
   "execution_count": 3,
   "metadata": {},
   "outputs": [],
   "source": [
    "os.environ[\"PINECONE_API_KEY\"] = os.getenv(\"PINECONE_API_KEY\")"
   ]
  },
  {
   "cell_type": "code",
   "execution_count": 4,
   "metadata": {},
   "outputs": [],
   "source": [
    "os.environ[\"GROQ_API_KEY\"] = os.getenv(\"GROQ_API_KEY\")"
   ]
  },
  {
   "cell_type": "code",
   "execution_count": 8,
   "metadata": {},
   "outputs": [],
   "source": [
    "def load_data(path):\n",
    "    data = DirectoryLoader(path, glob=[\"*.pdf\"], loader_cls=PyPDFLoader)\n",
    "    loaded_data = data.load()\n",
    "    return loaded_data\n",
    "\n",
    "\n"
   ]
  },
  {
   "cell_type": "code",
   "execution_count": 9,
   "metadata": {},
   "outputs": [
    {
     "data": {
      "text/plain": [
       "'d:\\\\projects\\\\Practice Projects\\\\AI projects\\\\Generative AI\\\\Medical Chatbot\\\\research'"
      ]
     },
     "execution_count": 9,
     "metadata": {},
     "output_type": "execute_result"
    }
   ],
   "source": [
    "%pwd"
   ]
  },
  {
   "cell_type": "code",
   "execution_count": 10,
   "metadata": {},
   "outputs": [],
   "source": [
    "os.chdir('../')"
   ]
  },
  {
   "cell_type": "code",
   "execution_count": 11,
   "metadata": {},
   "outputs": [
    {
     "data": {
      "text/plain": [
       "'d:\\\\projects\\\\Practice Projects\\\\AI projects\\\\Generative AI\\\\Medical Chatbot'"
      ]
     },
     "execution_count": 11,
     "metadata": {},
     "output_type": "execute_result"
    }
   ],
   "source": [
    "%pwd"
   ]
  },
  {
   "cell_type": "code",
   "execution_count": 13,
   "metadata": {},
   "outputs": [],
   "source": [
    "docs = load_data('data/')"
   ]
  },
  {
   "cell_type": "code",
   "execution_count": 14,
   "metadata": {},
   "outputs": [],
   "source": [
    "def split_docs(docs):\n",
    "    splitter = RecursiveCharacterTextSplitter(chunk_size=500, chunk_overlap=20)\n",
    "    splits = splitter.split_documents(docs)\n",
    "    return splits"
   ]
  },
  {
   "cell_type": "code",
   "execution_count": 15,
   "metadata": {},
   "outputs": [],
   "source": [
    "splitted_docs = split_docs(docs)"
   ]
  },
  {
   "cell_type": "code",
   "execution_count": 16,
   "metadata": {},
   "outputs": [],
   "source": [
    "from langchain_huggingface import HuggingFaceEmbeddings"
   ]
  },
  {
   "cell_type": "code",
   "execution_count": 17,
   "metadata": {},
   "outputs": [
    {
     "name": "stderr",
     "output_type": "stream",
     "text": [
      "d:\\projects\\Practice Projects\\AI projects\\Generative AI\\Medical Chatbot\\venv\\Lib\\site-packages\\tqdm\\auto.py:21: TqdmWarning: IProgress not found. Please update jupyter and ipywidgets. See https://ipywidgets.readthedocs.io/en/stable/user_install.html\n",
      "  from .autonotebook import tqdm as notebook_tqdm\n"
     ]
    }
   ],
   "source": [
    "def download_embedding_model():\n",
    "    embedding_model = HuggingFaceEmbeddings(model_name=\"sentence-transformers/all-MiniLM-L6-v2\")\n",
    "    return embedding_model\n",
    "\n",
    "\n",
    "embeddings = download_embedding_model()\n"
   ]
  },
  {
   "cell_type": "code",
   "execution_count": 18,
   "metadata": {},
   "outputs": [],
   "source": [
    "from pinecone.grpc import PineconeGRPC as Pinecone\n",
    "from pinecone import ServerlessSpec\n",
    "\n",
    "\n",
    "pc = Pinecone()\n",
    "\n",
    "index_name = \"medibot\"\n",
    "\n",
    "pc.create_index(\n",
    "    name=index_name,\n",
    "    dimension=384,\n",
    "    metric=\"cosine\",\n",
    "    spec=ServerlessSpec(\n",
    "        cloud=\"aws\",\n",
    "        region=\"us-east-1\"\n",
    "    ) \n",
    ")\n"
   ]
  },
  {
   "cell_type": "code",
   "execution_count": 20,
   "metadata": {},
   "outputs": [],
   "source": [
    "from langchain_pinecone import PineconeVectorStore\n",
    "\n",
    "docsearch = PineconeVectorStore.from_documents(\n",
    "    documents=splitted_docs,\n",
    "    index_name = index_name,\n",
    "    embedding= embeddings\n",
    ")"
   ]
  },
  {
   "cell_type": "code",
   "execution_count": 22,
   "metadata": {},
   "outputs": [],
   "source": [
    "docsearch = PineconeVectorStore.from_existing_index(\n",
    "    index_name=index_name,\n",
    "    embedding=embeddings\n",
    ")"
   ]
  },
  {
   "cell_type": "code",
   "execution_count": 23,
   "metadata": {},
   "outputs": [],
   "source": [
    "retriever = docsearch.as_retriever(search_kwargs = {\"k\" : 3})"
   ]
  },
  {
   "cell_type": "code",
   "execution_count": 24,
   "metadata": {},
   "outputs": [
    {
     "data": {
      "text/plain": [
       "[Document(id='7cf8f41b-f8b8-4e13-93ad-6941a5b6570e', metadata={'page': 283.0, 'page_label': '284', 'source': 'data\\\\Medical_book.pdf'}, page_content='Nancy Ross-Flanigan\\nAntifungal drugs, topical\\nDefinition\\nTopical antifungal drugs are medicines applied to\\nthe skin to treat skin infections caused by a fungus.\\nPurpose\\nDermatologic fungal infections are usually\\ndescribed by their location on the body: tinea pedis\\n(infection of the foot), tinea unguium (infection of the\\nnails), tinia capitis (infection of the scalp.) Three types of\\nfungus are involved in most skin infections:Trichophy-\\nton, Epidermophyton, and Microsporum. Mild infections'),\n",
       " Document(id='c2a3173f-80e0-419e-a729-c248bc23b836', metadata={'page': 38.0, 'page_label': '39', 'source': 'data\\\\Medical_book.pdf'}, page_content='Topical medications are available as cream, gel,\\nlotion, or pad preparations of varying strengths. They\\ninclude antibiotics (agents that kill bacteria), such as ery-\\nthromycin, clindamycin (Cleocin-T), and meclocycline\\n(Meclan); comedolytics (agents that loosen hard plugs\\nand open pores) such as the vitamin A acid tretinoin\\n(Retin-A), salicylic acid, adapalene (Differin), resorci-\\nnol, and sulfur. Drugs that act as both comedolytics and\\nantibiotics, such as benzoyl peroxide, azelaic acid'),\n",
       " Document(id='ffa6b7e1-69d1-44d3-b009-381438b23f60', metadata={'page': 284.0, 'page_label': '285', 'source': 'data\\\\Medical_book.pdf'}, page_content='KEY TERMS\\nCream—A spreadable substance, similar to an\\nointment, but not as thick. Creams may be more\\nappropriate than ointments for application to\\nexposed skin areas such as the face and hands.\\nOintment —A thick, spreadable substance that\\ncontains medicine and is meant to be used on the\\nskin, or if a vaginal preparation, in the vagina.\\nOpthalmic—Pertaining to the eye.\\nOtic—Pertaining to the ear.\\nTopical—A term used to describe medicine that\\nhas effects only in a specific area, not throughout')]"
      ]
     },
     "execution_count": 24,
     "metadata": {},
     "output_type": "execute_result"
    }
   ],
   "source": [
    "retriever.invoke(\"What is TOPICAL DRUGS\")"
   ]
  },
  {
   "cell_type": "code",
   "execution_count": 25,
   "metadata": {},
   "outputs": [],
   "source": [
    "from langchain_groq import ChatGroq\n",
    "\n",
    "llm = ChatGroq(model=\"gemma2-9b-it\")"
   ]
  },
  {
   "cell_type": "code",
   "execution_count": 26,
   "metadata": {},
   "outputs": [],
   "source": [
    "from langchain.chains.retrieval import create_retrieval_chain\n",
    "from langchain.chains.combine_documents import create_stuff_documents_chain\n",
    "from langchain_core.prompts import ChatPromptTemplate"
   ]
  },
  {
   "cell_type": "code",
   "execution_count": 27,
   "metadata": {},
   "outputs": [],
   "source": [
    "system_prompt = \"\"\"\n",
    "\"You are helpfull Healthcare AI assistant\",\n",
    "\"Provide answers for user questions, Using the context\",\n",
    "\"If question not related to the context, Just say I don't know\",\n",
    "{context}\n",
    "\"\"\"\n",
    "\n",
    "\n",
    "prompt = ChatPromptTemplate.from_messages(\n",
    "    [\n",
    "        (\"system\", system_prompt),\n",
    "        (\"human\", \"{input}\")\n",
    "    ]\n",
    ")\n"
   ]
  },
  {
   "cell_type": "code",
   "execution_count": 28,
   "metadata": {},
   "outputs": [],
   "source": [
    "question_chain = create_stuff_documents_chain(llm, prompt)\n",
    "rag_chain = create_retrieval_chain(retriever, question_chain)"
   ]
  },
  {
   "cell_type": "code",
   "execution_count": 29,
   "metadata": {},
   "outputs": [
    {
     "data": {
      "text/plain": [
       "{'input': 'What is Topical Drugs',\n",
       " 'context': [Document(id='7cf8f41b-f8b8-4e13-93ad-6941a5b6570e', metadata={'page': 283.0, 'page_label': '284', 'source': 'data\\\\Medical_book.pdf'}, page_content='Nancy Ross-Flanigan\\nAntifungal drugs, topical\\nDefinition\\nTopical antifungal drugs are medicines applied to\\nthe skin to treat skin infections caused by a fungus.\\nPurpose\\nDermatologic fungal infections are usually\\ndescribed by their location on the body: tinea pedis\\n(infection of the foot), tinea unguium (infection of the\\nnails), tinia capitis (infection of the scalp.) Three types of\\nfungus are involved in most skin infections:Trichophy-\\nton, Epidermophyton, and Microsporum. Mild infections'),\n",
       "  Document(id='c2a3173f-80e0-419e-a729-c248bc23b836', metadata={'page': 38.0, 'page_label': '39', 'source': 'data\\\\Medical_book.pdf'}, page_content='Topical medications are available as cream, gel,\\nlotion, or pad preparations of varying strengths. They\\ninclude antibiotics (agents that kill bacteria), such as ery-\\nthromycin, clindamycin (Cleocin-T), and meclocycline\\n(Meclan); comedolytics (agents that loosen hard plugs\\nand open pores) such as the vitamin A acid tretinoin\\n(Retin-A), salicylic acid, adapalene (Differin), resorci-\\nnol, and sulfur. Drugs that act as both comedolytics and\\nantibiotics, such as benzoyl peroxide, azelaic acid'),\n",
       "  Document(id='ffa6b7e1-69d1-44d3-b009-381438b23f60', metadata={'page': 284.0, 'page_label': '285', 'source': 'data\\\\Medical_book.pdf'}, page_content='KEY TERMS\\nCream—A spreadable substance, similar to an\\nointment, but not as thick. Creams may be more\\nappropriate than ointments for application to\\nexposed skin areas such as the face and hands.\\nOintment —A thick, spreadable substance that\\ncontains medicine and is meant to be used on the\\nskin, or if a vaginal preparation, in the vagina.\\nOpthalmic—Pertaining to the eye.\\nOtic—Pertaining to the ear.\\nTopical—A term used to describe medicine that\\nhas effects only in a specific area, not throughout')],\n",
       " 'answer': 'Topical antifungal drugs are medicines applied to the skin to treat skin infections caused by a fungus. \\n'}"
      ]
     },
     "execution_count": 29,
     "metadata": {},
     "output_type": "execute_result"
    }
   ],
   "source": [
    "rag_chain.invoke({\"input\" : \"What is Topical Drugs\"})"
   ]
  },
  {
   "cell_type": "code",
   "execution_count": 30,
   "metadata": {},
   "outputs": [
    {
     "data": {
      "text/plain": [
       "{'input': 'What is Artifical Inteligence',\n",
       " 'context': [Document(id='df74ebf4-75f6-44a0-a029-29db0d950dbd', metadata={'page': 442.0, 'page_label': '443', 'source': 'data\\\\Medical_book.pdf'}, page_content='his practice of integrating the best aspects of Eastern and\\nWestern medicine.\\nIn 1993, he published Creating Affluence: Wealth\\nConsciousness in the Field of All Possibilities , and the\\nenormously successful best seller, Ageless Body, Timeless\\nMind. In the latter he presents his most radical thesis: that\\naging is not the inevitable deterioration of organs and\\nmind that we have been traditionally taught to think of it\\nas. It is a process that can be influenced, slowed down,'),\n",
       "  Document(id='7920ac43-d32b-46bb-8a9b-6bca579736dc', metadata={'page': 429.0, 'page_label': '430', 'source': 'data\\\\Medical_book.pdf'}, page_content='be understood are among our most basic needs. He was a\\npioneer in perceiving that language problems convert into\\nsocial problems for people. “Language is what character-\\nizes man and makes him different from other creatures,”\\nTomatis is quoted as saying. The techniques he developed\\nto teach people how to listen effectively are international-\\nly respected tools used in the treatment of autism, atten-\\ntion-deficit disorder, and other learning disabilities.'),\n",
       "  Document(id='a7bcbcfc-a481-4a8a-8d23-1195210df704', metadata={'page': 347.0, 'page_label': '348', 'source': 'data\\\\Medical_book.pdf'}, page_content='cating, attempts are made to determine whether this diffi-\\nculty arises from impaired language comprehension or an\\nimpaired ability to speak. A typical examination involves\\nlistening to spontaneous speech and evaluating the individ-\\nual’s ability to recognize and name objects, comprehend\\nwhat is heard, and repeat sample words and phrases. The\\nindividual may also be asked to read text aloud and explain\\nwhat the passage means. In addition, writing ability is eval-')],\n",
       " 'answer': \"I don't know.  \\n\"}"
      ]
     },
     "execution_count": 30,
     "metadata": {},
     "output_type": "execute_result"
    }
   ],
   "source": [
    "rag_chain.invoke({\"input\": \"What is Artifical Inteligence\"})"
   ]
  },
  {
   "cell_type": "code",
   "execution_count": null,
   "metadata": {},
   "outputs": [],
   "source": []
  }
 ],
 "metadata": {
  "kernelspec": {
   "display_name": "Python 3",
   "language": "python",
   "name": "python3"
  },
  "language_info": {
   "codemirror_mode": {
    "name": "ipython",
    "version": 3
   },
   "file_extension": ".py",
   "mimetype": "text/x-python",
   "name": "python",
   "nbconvert_exporter": "python",
   "pygments_lexer": "ipython3",
   "version": "3.12.8"
  }
 },
 "nbformat": 4,
 "nbformat_minor": 2
}
